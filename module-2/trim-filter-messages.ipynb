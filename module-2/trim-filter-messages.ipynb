{
 "cells": [
  {
   "cell_type": "markdown",
   "id": "fb0ebaf1",
   "metadata": {},
   "source": [
    "[![Open in Colab](https://colab.research.google.com/assets/colab-badge.svg)](https://colab.research.google.com/github/langchain-ai/langchain-academy/blob/main/module-2/trim-filter-messages.ipynb) [![Open in LangChain Academy](https://cdn.prod.website-files.com/65b8cd72835ceeacd4449a53/66e9eba12c7b7688aa3dbb5e_LCA-badge-green.svg)](https://academy.langchain.com/courses/take/intro-to-langgraph/lessons/58239435-lesson-4-trim-and-filter-messages)"
   ]
  },
  {
   "cell_type": "markdown",
   "id": "c52ea2f9-03ff-4647-b782-46867ebed04e",
   "metadata": {},
   "source": [
    "# Filtering and trimming messages\n",
    "\n",
    "## Review\n",
    "\n",
    "Now, we have a deeper understanding of a few things: \n",
    "\n",
    "* How to customize the graph state schema\n",
    "* How to define custom state reducers\n",
    "* How to use multiple graph state schemas\n",
    "\n",
    "## Goals\n",
    "\n",
    "Now, we can start using these concepts with models in LangGraph!\n",
    " \n",
    "In the next few sessions, we'll build towards a chatbot that has long-term memory.\n",
    "\n",
    "Because our chatbot will use messages, let's first talk a bit more about advanced ways to work with messages in graph state."
   ]
  },
  {
   "cell_type": "code",
   "execution_count": 13,
   "id": "d5197aba-5d46-421b-ae3b-4e3034edcfda",
   "metadata": {},
   "outputs": [],
   "source": [
    "%%capture --no-stderr\n",
    "%pip install --quiet -U langchain_core langgraph langchain_openai"
   ]
  },
  {
   "cell_type": "code",
   "execution_count": 18,
   "id": "768dc606-d5f2-468d-96ea-910b264e0f8a",
   "metadata": {},
   "outputs": [
    {
     "data": {
      "text/plain": [
       "True"
      ]
     },
     "execution_count": 18,
     "metadata": {},
     "output_type": "execute_result"
    }
   ],
   "source": [
    "import os\n",
    "from dotenv import load_dotenv\n",
    "load_dotenv(dotenv_path=\"../module-2/studio/.env\", override=True)"
   ]
  },
  {
   "cell_type": "markdown",
   "id": "8b64d8d3-e4ac-4961-bdc0-688825eb5864",
   "metadata": {},
   "source": [
    "We'll use [LangSmith](https://docs.smith.langchain.com/) for [tracing](https://docs.smith.langchain.com/concepts/tracing).\n",
    "\n",
    "We'll log to a project, `langchain-academy`. "
   ]
  },
  {
   "cell_type": "markdown",
   "id": "72f3fc90-58b6-4f7f-897e-dddf6ae532c7",
   "metadata": {},
   "source": [
    "## Messages as state\n",
    "\n",
    "First, let's define some messages."
   ]
  },
  {
   "cell_type": "code",
   "execution_count": 20,
   "id": "cf11a463-e27a-4a05-b41d-64882e38edca",
   "metadata": {},
   "outputs": [
    {
     "name": "stdout",
     "output_type": "stream",
     "text": [
      "==================================\u001b[1m Ai Message \u001b[0m==================================\n",
      "Name: Bot\n",
      "\n",
      "So you said you were researching ocean mammals?\n",
      "================================\u001b[1m Human Message \u001b[0m=================================\n",
      "Name: Lance\n",
      "\n",
      "Yes, I know about whales. But what others should I learn about?\n"
     ]
    }
   ],
   "source": [
    "from pprint import pprint\n",
    "from langchain_core.messages import AIMessage, HumanMessage\n",
    "messages = [AIMessage(f\"So you said you were researching ocean mammals?\", name=\"Bot\")]\n",
    "messages.append(HumanMessage(f\"Yes, I know about whales. But what others should I learn about?\", name=\"Lance\"))\n",
    "\n",
    "for m in messages:\n",
    "    m.pretty_print()"
   ]
  },
  {
   "cell_type": "markdown",
   "id": "b814adcb-6bf9-4b75-be11-e59f933fbd0c",
   "metadata": {},
   "source": [
    "Recall we can pass them to a chat model."
   ]
  },
  {
   "cell_type": "code",
   "execution_count": 21,
   "id": "4712e288-e622-48a2-ad3f-a52f65f3ab08",
   "metadata": {},
   "outputs": [
    {
     "data": {
      "text/plain": [
       "AIMessage(content='In addition to whales, there are several other fascinating ocean mammals you might want to learn about:\\n\\n1. **Dolphins**: Highly intelligent and social creatures, dolphins are known for their playful behavior and are found in oceans worldwide.\\n\\n2. **Porpoises**: Often confused with dolphins, porpoises are smaller, have different-shaped teeth, and tend to be shyer and less acrobatic.\\n\\n3. **Seals**: These pinnipeds are known for their adaptability to both land and sea. There are two main groups: true seals and eared seals (like sea lions).\\n\\n4. **Sea Lions**: Often seen as the \"showmen\" of the pinniped world, sea lions are social and can often be seen interacting with each other on beaches and rocks.\\n\\n5. **Walruses**: Known for their distinctive tusks and whiskers, walruses live in Arctic regions and are heavily associated with the ice.\\n\\n6. **Manatees and Dugongs**: Often referred to as \"sea cows,\" these gentle herbivores are found in warm coastal waters, and they play a critical role in maintaining healthy marine ecosystems.\\n\\n7. **Sea Otters**: Found along the Pacific coast of North America, sea otters are known for their dexterity and use of tools, such as rocks used to break open shellfish.\\n\\n8. **Polar Bears**: Although primarily land animals, polar bears are excellent swimmers and are considered marine mammals because they spend much of their life on sea ice.\\n\\nEach of these marine mammals has unique adaptations and plays a vital role in their ecosystems, making them interesting subjects of study.', additional_kwargs={'refusal': None}, response_metadata={'token_usage': {'completion_tokens': 335, 'prompt_tokens': 39, 'total_tokens': 374, 'completion_tokens_details': {'accepted_prediction_tokens': 0, 'audio_tokens': 0, 'reasoning_tokens': 0, 'rejected_prediction_tokens': 0}, 'prompt_tokens_details': {'audio_tokens': 0, 'cached_tokens': 0}}, 'model_provider': 'openai', 'model_name': 'gpt-4o-2024-08-06', 'system_fingerprint': 'fp_eb3c3cb84d', 'id': 'chatcmpl-CTpuZzTIKyqva02Bi7qpDfVrT8mRh', 'service_tier': 'default', 'finish_reason': 'stop', 'logprobs': None}, id='lc_run--50fe0eb1-52b3-4d5f-9a29-e9480575d44b-0', usage_metadata={'input_tokens': 39, 'output_tokens': 335, 'total_tokens': 374, 'input_token_details': {'audio': 0, 'cache_read': 0}, 'output_token_details': {'audio': 0, 'reasoning': 0}})"
      ]
     },
     "execution_count": 21,
     "metadata": {},
     "output_type": "execute_result"
    }
   ],
   "source": [
    "from langchain_openai import ChatOpenAI\n",
    "llm = ChatOpenAI(model=\"gpt-4o\")\n",
    "llm.invoke(messages)"
   ]
  },
  {
   "cell_type": "markdown",
   "id": "fbd1dab8-0af8-4621-8264-ce65065f76ec",
   "metadata": {},
   "source": [
    "We can run our chat model in a simple graph with `MessagesState`."
   ]
  },
  {
   "cell_type": "code",
   "execution_count": 22,
   "id": "bbd8c39c-633b-4176-9cc6-8318e42bb5dd",
   "metadata": {},
   "outputs": [
    {
     "data": {
      "image/png": "[encoded data removed]",
      "text/plain": [
       "<IPython.core.display.Image object>"
      ]
     },
     "metadata": {},
     "output_type": "display_data"
    }
   ],
   "source": [
    "from IPython.display import Image, display\n",
    "from langgraph.graph import MessagesState\n",
    "from langgraph.graph import StateGraph, START, END\n",
    "\n",
    "# Node\n",
    "def chat_model_node(state: MessagesState):\n",
    "    return {\"messages\": llm.invoke(state[\"messages\"])}\n",
    "\n",
    "# Build graph\n",
    "builder = StateGraph(MessagesState)\n",
    "builder.add_node(\"chat_model\", chat_model_node)\n",
    "builder.add_edge(START, \"chat_model\")\n",
    "builder.add_edge(\"chat_model\", END)\n",
    "graph = builder.compile()\n",
    "\n",
    "# View\n",
    "display(Image(graph.get_graph().draw_mermaid_png()))"
   ]
  },
  {
   "cell_type": "code",
   "execution_count": 23,
   "id": "3a5a3e4a-ccfd-4d14-81f1-f0de6e11a1e4",
   "metadata": {},
   "outputs": [
    {
     "name": "stdout",
     "output_type": "stream",
     "text": [
      "==================================\u001b[1m Ai Message \u001b[0m==================================\n",
      "Name: Bot\n",
      "\n",
      "So you said you were researching ocean mammals?\n",
      "================================\u001b[1m Human Message \u001b[0m=================================\n",
      "Name: Lance\n",
      "\n",
      "Yes, I know about whales. But what others should I learn about?\n",
      "==================================\u001b[1m Ai Message \u001b[0m==================================\n",
      "\n",
      "In addition to whales, there are several other fascinating ocean mammals you might want to learn about:\n",
      "\n",
      "1. **Dolphins**: These are highly intelligent and social animals known for their playful behavior and complex communication. There are various species, including the bottlenose dolphin and the orca, which is also known as the killer whale.\n",
      "\n",
      "2. **Porpoises**: Similar in appearance to dolphins, porpoises tend to be smaller and have different shaped bodies and teeth. They are also less acrobatic than dolphins.\n",
      "\n",
      "3. **Seals and Sea Lions (Pinnipeds)**: These include various species like the harbor seal, the northern elephant seal, and the California sea lion. They are well adapted to life both in the ocean and on land.\n",
      "\n",
      "4. **Walruses**: Recognizable by their long tusks, walruses are social animals that live in Arctic regions. They use their tusks to pull themselves onto ice and to help in foraging for food on the sea floor.\n",
      "\n",
      "5. **Manatees and Dugongs (Sirenia)**: Often referred to as sea cows, these gentle herbivores graze on seagrasses and are found in warm coastal waters. Manatees are primarily found in the Caribbean and along the southeastern coast of the U.S., while dugongs inhabit the waters near Australia and the Indian Ocean.\n",
      "\n",
      "6. **Sea Otters**: Found in the North Pacific, sea otters are known for their role in maintaining the balance of kelp ecosystems. They are one of the few mammals that use tools, such as rocks, to open shellfish.\n",
      "\n",
      "7. **Polar Bears**: While not fully aquatic, polar bears are classified as marine mammals because they spend a significant amount of time on the sea ice searching for seals, their primary food source.\n",
      "\n",
      "Understanding the diversity of ocean mammals can help in efforts to conserve these important species and their habitats. Each of these animals plays a unique role in the marine ecosystem.\n"
     ]
    }
   ],
   "source": [
    "output = graph.invoke({'messages': messages})\n",
    "for m in output['messages']:\n",
    "    m.pretty_print()"
   ]
  },
  {
   "cell_type": "markdown",
   "id": "34c33e63-1ef4-412d-bb10-6a1b9e5b35a7",
   "metadata": {},
   "source": [
    "## Reducer\n",
    "\n",
    "A practical challenge when working with messages is managing long-running conversations. \n",
    "\n",
    "Long-running conversations result in high token usage and latency if we are not careful, because we pass a growing list of messages to the model.\n",
    "\n",
    "We have a few ways to address this.\n",
    "\n",
    "First, recall the trick we saw using `RemoveMessage` and the `add_messages` reducer."
   ]
  },
  {
   "cell_type": "code",
   "execution_count": 24,
   "id": "222c6bc5-bb0e-4a43-80f5-c8ec38d99f3a",
   "metadata": {},
   "outputs": [
    {
     "data": {
      "image/png": "[encoded data removed]",
      "text/plain": [
       "<IPython.core.display.Image object>"
      ]
     },
     "metadata": {},
     "output_type": "display_data"
    }
   ],
   "source": [
    "from langchain_core.messages import RemoveMessage\n",
    "\n",
    "# Nodes\n",
    "def filter_messages(state: MessagesState):\n",
    "    # Delete all but the 2 most recent messages\n",
    "    delete_messages = [RemoveMessage(id=m.id) for m in state[\"messages\"][:-2]]\n",
    "    return {\"messages\": delete_messages}\n",
    "\n",
    "def chat_model_node(state: MessagesState):    \n",
    "    return {\"messages\": [llm.invoke(state[\"messages\"])]}\n",
    "\n",
    "# Build graph\n",
    "builder = StateGraph(MessagesState)\n",
    "builder.add_node(\"filter\", filter_messages)\n",
    "builder.add_node(\"chat_model\", chat_model_node)\n",
    "builder.add_edge(START, \"filter\")\n",
    "builder.add_edge(\"filter\", \"chat_model\")\n",
    "builder.add_edge(\"chat_model\", END)\n",
    "graph = builder.compile()\n",
    "\n",
    "# View\n",
    "display(Image(graph.get_graph().draw_mermaid_png()))"
   ]
  },
  {
   "cell_type": "code",
   "execution_count": 25,
   "id": "95a7c2cc-54ce-43e7-9a90-abf37827d709",
   "metadata": {},
   "outputs": [
    {
     "name": "stdout",
     "output_type": "stream",
     "text": [
      "==================================\u001b[1m Ai Message \u001b[0m==================================\n",
      "Name: Bot\n",
      "\n",
      "So you said you were researching ocean mammals?\n",
      "================================\u001b[1m Human Message \u001b[0m=================================\n",
      "Name: Lance\n",
      "\n",
      "Yes, I know about whales. But what others should I learn about?\n",
      "==================================\u001b[1m Ai Message \u001b[0m==================================\n",
      "\n",
      "In addition to whales, there are several other fascinating ocean mammals you can explore:\n",
      "\n",
      "1. **Dolphins**: Known for their intelligence and playfulness, there are various species like the bottlenose dolphin and the orca, which is technically a type of dolphin.\n",
      "\n",
      "2. **Porpoises**: Similar to dolphins but generally smaller and stouter, with differences in their teeth and fin shapes.\n",
      "\n",
      "3. **Seals and Sea Lions**: These are pinnipeds and are known for their agility in water. Seals have smaller flippers and move on land in a wriggling motion, whereas sea lions have larger flippers and can \"walk\" on land.\n",
      "\n",
      "4. **Walruses**: Recognizable by their long tusks and whiskers, they are social animals that primarily inhabit the Arctic region.\n",
      "\n",
      "5. **Manatees and Dugongs**: Sometimes called sea cows, these slow-moving herbivorous mammals are found in warm coastal waters.\n",
      "\n",
      "6. **Sea Otters**: Noted for their use of tools, sea otters are a keystone species for kelp forests along the coasts of the northern and eastern North Pacific Ocean.\n",
      "\n",
      "Each of these marine mammals has unique adaptations and behaviors that make them integral to the ecosystems they inhabit. Exploring these characteristics can provide deeper insight into their roles in ocean ecology.\n"
     ]
    }
   ],
   "source": [
    "# Message list with a preamble\n",
    "messages = [AIMessage(\"Hi.\", name=\"Bot\", id=\"1\")]\n",
    "messages.append(HumanMessage(\"Hi.\", name=\"Lance\", id=\"2\"))\n",
    "messages.append(AIMessage(\"So you said you were researching ocean mammals?\", name=\"Bot\", id=\"3\"))\n",
    "messages.append(HumanMessage(\"Yes, I know about whales. But what others should I learn about?\", name=\"Lance\", id=\"4\"))\n",
    "\n",
    "# Invoke\n",
    "output = graph.invoke({'messages': messages})\n",
    "for m in output['messages']:\n",
    "    m.pretty_print()"
   ]
  },
  {
   "cell_type": "markdown",
   "id": "f506457d-014b-4fee-a684-e5edfb4b8f0d",
   "metadata": {},
   "source": [
    "## Filtering messages\n",
    "\n",
    "If you don't need or want to modify the graph state, you can just filter the messages you pass to the chat model.\n",
    "\n",
    "For example, just pass in a filtered list: `llm.invoke(messages[-1:])` to the model."
   ]
  },
  {
   "cell_type": "code",
   "execution_count": 26,
   "id": "22d0b904-7cd6-486b-8948-105bee3d4683",
   "metadata": {},
   "outputs": [
    {
     "data": {
      "image/png": "[encoded data removed]",
      "text/plain": [
       "<IPython.core.display.Image object>"
      ]
     },
     "metadata": {},
     "output_type": "display_data"
    }
   ],
   "source": [
    "# Node\n",
    "def chat_model_node(state: MessagesState):\n",
    "    return {\"messages\": [llm.invoke(state[\"messages\"][-1:])]}\n",
    "\n",
    "# Build graph\n",
    "builder = StateGraph(MessagesState)\n",
    "builder.add_node(\"chat_model\", chat_model_node)\n",
    "builder.add_edge(START, \"chat_model\")\n",
    "builder.add_edge(\"chat_model\", END)\n",
    "graph = builder.compile()\n",
    "\n",
    "# View\n",
    "display(Image(graph.get_graph().draw_mermaid_png()))"
   ]
  },
  {
   "cell_type": "markdown",
   "id": "6f58c6fc-532f-418d-b70a-cfcb3307daf5",
   "metadata": {},
   "source": [
    "Let's take our existing list of messages, append the above LLM response, and append a follow-up question."
   ]
  },
  {
   "cell_type": "code",
   "execution_count": 27,
   "id": "16956015-1dbe-4108-89b5-4209b68b51ca",
   "metadata": {},
   "outputs": [],
   "source": [
    "messages.append(output['messages'][-1])\n",
    "messages.append(HumanMessage(f\"Tell me more about Narwhals!\", name=\"Lance\"))"
   ]
  },
  {
   "cell_type": "code",
   "execution_count": 28,
   "id": "85563415-c085-46a8-a4ac-155df798c54e",
   "metadata": {},
   "outputs": [
    {
     "name": "stdout",
     "output_type": "stream",
     "text": [
      "==================================\u001b[1m Ai Message \u001b[0m==================================\n",
      "Name: Bot\n",
      "\n",
      "Hi.\n",
      "================================\u001b[1m Human Message \u001b[0m=================================\n",
      "Name: Lance\n",
      "\n",
      "Hi.\n",
      "==================================\u001b[1m Ai Message \u001b[0m==================================\n",
      "Name: Bot\n",
      "\n",
      "So you said you were researching ocean mammals?\n",
      "================================\u001b[1m Human Message \u001b[0m=================================\n",
      "Name: Lance\n",
      "\n",
      "Yes, I know about whales. But what others should I learn about?\n",
      "==================================\u001b[1m Ai Message \u001b[0m==================================\n",
      "\n",
      "In addition to whales, there are several other fascinating ocean mammals you can explore:\n",
      "\n",
      "1. **Dolphins**: Known for their intelligence and playfulness, there are various species like the bottlenose dolphin and the orca, which is technically a type of dolphin.\n",
      "\n",
      "2. **Porpoises**: Similar to dolphins but generally smaller and stouter, with differences in their teeth and fin shapes.\n",
      "\n",
      "3. **Seals and Sea Lions**: These are pinnipeds and are known for their agility in water. Seals have smaller flippers and move on land in a wriggling motion, whereas sea lions have larger flippers and can \"walk\" on land.\n",
      "\n",
      "4. **Walruses**: Recognizable by their long tusks and whiskers, they are social animals that primarily inhabit the Arctic region.\n",
      "\n",
      "5. **Manatees and Dugongs**: Sometimes called sea cows, these slow-moving herbivorous mammals are found in warm coastal waters.\n",
      "\n",
      "6. **Sea Otters**: Noted for their use of tools, sea otters are a keystone species for kelp forests along the coasts of the northern and eastern North Pacific Ocean.\n",
      "\n",
      "Each of these marine mammals has unique adaptations and behaviors that make them integral to the ecosystems they inhabit. Exploring these characteristics can provide deeper insight into their roles in ocean ecology.\n",
      "================================\u001b[1m Human Message \u001b[0m=================================\n",
      "Name: Lance\n",
      "\n",
      "Tell me more about Narwhals!\n"
     ]
    }
   ],
   "source": [
    "for m in messages:\n",
    "    m.pretty_print()"
   ]
  },
  {
   "cell_type": "code",
   "execution_count": 29,
   "id": "23349705-a059-47b5-9760-d8f64e687393",
   "metadata": {},
   "outputs": [
    {
     "name": "stdout",
     "output_type": "stream",
     "text": [
      "==================================\u001b[1m Ai Message \u001b[0m==================================\n",
      "Name: Bot\n",
      "\n",
      "Hi.\n",
      "================================\u001b[1m Human Message \u001b[0m=================================\n",
      "Name: Lance\n",
      "\n",
      "Hi.\n",
      "==================================\u001b[1m Ai Message \u001b[0m==================================\n",
      "Name: Bot\n",
      "\n",
      "So you said you were researching ocean mammals?\n",
      "================================\u001b[1m Human Message \u001b[0m=================================\n",
      "Name: Lance\n",
      "\n",
      "Yes, I know about whales. But what others should I learn about?\n",
      "==================================\u001b[1m Ai Message \u001b[0m==================================\n",
      "\n",
      "In addition to whales, there are several other fascinating ocean mammals you can explore:\n",
      "\n",
      "1. **Dolphins**: Known for their intelligence and playfulness, there are various species like the bottlenose dolphin and the orca, which is technically a type of dolphin.\n",
      "\n",
      "2. **Porpoises**: Similar to dolphins but generally smaller and stouter, with differences in their teeth and fin shapes.\n",
      "\n",
      "3. **Seals and Sea Lions**: These are pinnipeds and are known for their agility in water. Seals have smaller flippers and move on land in a wriggling motion, whereas sea lions have larger flippers and can \"walk\" on land.\n",
      "\n",
      "4. **Walruses**: Recognizable by their long tusks and whiskers, they are social animals that primarily inhabit the Arctic region.\n",
      "\n",
      "5. **Manatees and Dugongs**: Sometimes called sea cows, these slow-moving herbivorous mammals are found in warm coastal waters.\n",
      "\n",
      "6. **Sea Otters**: Noted for their use of tools, sea otters are a keystone species for kelp forests along the coasts of the northern and eastern North Pacific Ocean.\n",
      "\n",
      "Each of these marine mammals has unique adaptations and behaviors that make them integral to the ecosystems they inhabit. Exploring these characteristics can provide deeper insight into their roles in ocean ecology.\n",
      "================================\u001b[1m Human Message \u001b[0m=================================\n",
      "Name: Lance\n",
      "\n",
      "Tell me more about Narwhals!\n",
      "==================================\u001b[1m Ai Message \u001b[0m==================================\n",
      "\n",
      "Narwhals are fascinating marine mammals known for their distinctive long, spiral tusks, which resemble a unicorn horn. They belong to the Monodontidae family and are closely related to belugas. Here are some key points about narwhals:\n",
      "\n",
      "1. **Habitat and Range**: Narwhals inhabit the Arctic waters around Greenland, Canada, and Russia. They are particularly associated with ice-covered regions and are adapted to life in cold environments.\n",
      "\n",
      "2. **Physical Characteristics**: Adult narwhals are typically mottled gray or brownish with a lighter underside. Males are notable for their long tusks, which are elongated upper left canine teeth. These tusks can grow up to 10 feet (about 3 meters) in length, while females have shorter ones and sometimes none at all.\n",
      "\n",
      "3. **Tusks**: The tusk is a unique sensory organ that contains millions of nerve endings. It is thought to play roles in mating rituals, social interactions, and possibly even in sensing environmental changes.\n",
      "\n",
      "4. **Diet**: Narwhals primarily feed on fish, particularly Arctic cod, Greenland halibut, and sometimes squid and shrimp. They typically hunt at great depths, diving as deep as 1,500 meters (about 4,900 feet).\n",
      "\n",
      "5. **Social Behavior and Communication**: Narwhals are social animals and are often found in groups, which can range from a few individuals to larger herds. They communicate using a variety of clicks, whistles, and knocks.\n",
      "\n",
      "6. **Migration and Breeding**: Narwhals migrate seasonally, moving to open waters in the winter and returning to coastal areas in the summer. Females give birth to a single calf every three years after a gestation period of about 14 months.\n",
      "\n",
      "7. **Conservation Status**: Narwhals face threats from climate change, habitat loss, and human activities such as shipping and oil and gas exploration. They are currently classified as Near Threatened by the International Union for Conservation of Nature (IUCN).\n",
      "\n",
      "8. **Cultural Significance**: Narwhals hold significance in the cultures and traditions of Indigenous Arctic peoples, who have relied on them for food, tools, and art for centuries.\n",
      "\n",
      "Narwhals continue to captivate scientists and the public alike due to their mysterious nature and the unique adaptations that allow them to thrive in the extreme conditions of the Arctic.\n"
     ]
    }
   ],
   "source": [
    "# Invoke, using message filtering\n",
    "output = graph.invoke({'messages': messages})\n",
    "for m in output['messages']:\n",
    "    m.pretty_print()"
   ]
  },
  {
   "cell_type": "markdown",
   "id": "42e1d8d2-e297-4d78-b54c-d12b3c866745",
   "metadata": {},
   "source": [
    "The state has all of the mesages.\n",
    "\n",
    "But, let's look at the LangSmith trace to see that the model invocation only uses the last message:\n",
    "\n",
    "https://smith.langchain.com/public/75aca3ce-ef19-4b92-94be-0178c7a660d9/r"
   ]
  },
  {
   "cell_type": "markdown",
   "id": "fc40d930-3c1f-47fe-8d2a-ce174873353c",
   "metadata": {},
   "source": [
    "## Trim messages\n",
    "\n",
    "Another approach is to [trim messages](https://python.langchain.com/v0.2/docs/how_to/trim_messages/#getting-the-last-max_tokens-tokens), based upon a set number of tokens. \n",
    "\n",
    "This restricts the message history to a specified number of tokens.\n",
    "\n",
    "While filtering only returns a post-hoc subset of the messages between agents, trimming restricts the number of tokens that a chat model can use to respond.\n",
    "\n",
    "See the `trim_messages` below."
   ]
  },
  {
   "cell_type": "code",
   "execution_count": 30,
   "id": "2ff99b81-cf03-4cc2-b44f-44829a73e1fd",
   "metadata": {},
   "outputs": [
    {
     "data": {
      "image/png": "[encoded data removed]",
      "text/plain": [
       "<IPython.core.display.Image object>"
      ]
     },
     "metadata": {},
     "output_type": "display_data"
    }
   ],
   "source": [
    "from langchain_core.messages import trim_messages\n",
    "\n",
    "# Node\n",
    "def chat_model_node(state: MessagesState):\n",
    "    messages = trim_messages(\n",
    "            state[\"messages\"],\n",
    "            max_tokens=100,\n",
    "            strategy=\"last\",\n",
    "            token_counter=ChatOpenAI(model=\"gpt-4o\"),\n",
    "            allow_partial=False,\n",
    "        )\n",
    "    return {\"messages\": [llm.invoke(messages)]}\n",
    "\n",
    "# Build graph\n",
    "builder = StateGraph(MessagesState)\n",
    "builder.add_node(\"chat_model\", chat_model_node)\n",
    "builder.add_edge(START, \"chat_model\")\n",
    "builder.add_edge(\"chat_model\", END)\n",
    "graph = builder.compile()\n",
    "\n",
    "# View\n",
    "display(Image(graph.get_graph().draw_mermaid_png()))"
   ]
  },
  {
   "cell_type": "code",
   "execution_count": 31,
   "id": "24df63ac-da29-4874-b3df-7e390e97cc8a",
   "metadata": {},
   "outputs": [],
   "source": [
    "messages.append(output['messages'][-1])\n",
    "messages.append(HumanMessage(f\"Tell me where Orcas live!\", name=\"Lance\"))"
   ]
  },
  {
   "cell_type": "code",
   "execution_count": 32,
   "id": "6d9d8971-c75c-43ca-a209-eb1d07b2ead0",
   "metadata": {},
   "outputs": [
    {
     "data": {
      "text/plain": [
       "[HumanMessage(content='Tell me where Orcas live!', additional_kwargs={}, response_metadata={}, name='Lance')]"
      ]
     },
     "execution_count": 32,
     "metadata": {},
     "output_type": "execute_result"
    }
   ],
   "source": [
    "# Example of trimming messages\n",
    "trim_messages(\n",
    "            messages,\n",
    "            max_tokens=100,\n",
    "            strategy=\"last\",\n",
    "            token_counter=ChatOpenAI(model=\"gpt-4o\"),\n",
    "            allow_partial=False\n",
    "        )"
   ]
  },
  {
   "cell_type": "code",
   "execution_count": 33,
   "id": "ed70a269-a869-4fa0-a1df-29736a432c51",
   "metadata": {},
   "outputs": [],
   "source": [
    "# Invoke, using message trimming in the chat_model_node \n",
    "messages_out_trim = graph.invoke({'messages': messages})"
   ]
  },
  {
   "cell_type": "markdown",
   "id": "38b3db67-380e-46b5-9a6a-20100ba52008",
   "metadata": {},
   "source": [
    "Let's look at the LangSmith trace to see the model invocation:\n",
    "\n",
    "https://smith.langchain.com/public/b153f7e9-f1a5-4d60-8074-f0d7ab5b42ef/r"
   ]
  },
  {
   "cell_type": "markdown",
   "id": "34190f84",
   "metadata": {},
   "source": [
    "# TWEAKS\n"
   ]
  },
  {
   "cell_type": "code",
   "execution_count": null,
   "id": "2a336f57",
   "metadata": {},
   "outputs": [
    {
     "name": "stdout",
     "output_type": "stream",
     "text": [
      "Shortened chat history:\n",
      "USER: There’s a known alert that may trigger under some cases.\n",
      "ASSISTANT: Got it — I’ll flag that for revision.\n",
      "USER: Perfect. Let’s also add a note for Dev and Neha.\n",
      "\n",
      "Filtered chat (removed 'alert' and 'error'):\n",
      "USER: Hi! Could you briefly explain the highlights of this file?\n",
      "ASSISTANT: Sure! Here’s a concise breakdown of the main insights.\n",
      "ASSISTANT: Got it — I’ll flag that for revision.\n",
      "USER: Perfect. Let’s also add a note for Dev and Neha.\n",
      "\n",
      "Final processed chat:\n",
      "ASSISTANT: Got it — I’ll flag that for revision.\n",
      "USER: Perfect. Let’s also add a note for Dev and Neha.\n"
     ]
    }
   ],
   "source": [
    "conversation_log = [\n",
    "    {\"role\": \"user\", \"content\": \"Hi! Could you briefly explain the highlights of this file?\"},\n",
    "    {\"role\": \"assistant\", \"content\": \"Sure! Here’s a concise breakdown of the main insights.\"},\n",
    "    {\"role\": \"user\", \"content\": \"There’s a known alert that may trigger under some cases.\"},\n",
    "    {\"role\": \"assistant\", \"content\": \"Got it — I’ll flag that for revision.\"},\n",
    "    {\"role\": \"user\", \"content\": \"Perfect. Let’s also add a note for Aviral and Shambhavi.\"},\n",
    "]\n",
    "\n",
    "def crop_chat_history(chat_log, keep=3):\n",
    "    \"\"\"Keeps the most recent `keep` messages.\"\"\"\n",
    "    return chat_log[-keep:] if len(chat_log) > keep else chat_log\n",
    "\n",
    "shortened = crop_chat_history(conversation_log, keep=3)\n",
    "print(\"Shortened chat history:\")\n",
    "for msg in shortened:\n",
    "    print(f\"{msg['role'].upper()}: {msg['content']}\")\n",
    "\n",
    "\n",
    "def omit_messages(chat_log, forbidden_words):\n",
    "    \"\"\"Exclude any messages containing certain words.\"\"\"\n",
    "    return [m for m in chat_log if not any(fw.lower() in m['content'].lower() for fw in forbidden_words)]\n",
    "\n",
    "filtered_history = omit_messages(conversation_log, [\"alert\", \"error\"])\n",
    "print(\"\\nFiltered chat (removed 'alert' and 'error'):\")\n",
    "for msg in filtered_history:\n",
    "    print(f\"{msg['role'].upper()}: {msg['content']}\")\n",
    "\n",
    "def clean_and_crop(chat_log, forbidden_words=None, keep=3):\n",
    "    \"\"\"Applies filtering and trimming sequentially.\"\"\"\n",
    "    if forbidden_words:\n",
    "        chat_log = omit_messages(chat_log, forbidden_words)\n",
    "    return crop_chat_history(chat_log, keep)\n",
    "\n",
    "final_chat = clean_and_crop(conversation_log, forbidden_words=[\"alert\"], keep=2)\n",
    "print(\"\\nFinal processed chat:\")\n",
    "for msg in final_chat:\n",
    "    print(f\"{msg['role'].upper()}: {msg['content']}\")\n"
   ]
  }
 ],
 "metadata": {
  "kernelspec": {
   "display_name": "Python 3",
   "language": "python",
   "name": "python3"
  },
  "language_info": {
   "codemirror_mode": {
    "name": "ipython",
    "version": 3
   },
   "file_extension": ".py",
   "mimetype": "text/x-python",
   "name": "python",
   "nbconvert_exporter": "python",
   "pygments_lexer": "ipython3",
   "version": "3.12.5"
  }
 },
 "nbformat": 4,
 "nbformat_minor": 5
}
