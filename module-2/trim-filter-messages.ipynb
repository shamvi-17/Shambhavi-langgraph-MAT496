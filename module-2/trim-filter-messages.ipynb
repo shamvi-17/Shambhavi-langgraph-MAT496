{
 "cells": [
  {
   "cell_type": "markdown",
   "id": "fb0ebaf1",
   "metadata": {},
   "source": [
    "[![Open in Colab](https://colab.research.google.com/assets/colab-badge.svg)](https://colab.research.google.com/github/langchain-ai/langchain-academy/blob/main/module-2/trim-filter-messages.ipynb) [![Open in LangChain Academy](https://cdn.prod.website-files.com/65b8cd72835ceeacd4449a53/66e9eba12c7b7688aa3dbb5e_LCA-badge-green.svg)](https://academy.langchain.com/courses/take/intro-to-langgraph/lessons/58239435-lesson-4-trim-and-filter-messages)"
   ]
  },
  {
   "cell_type": "markdown",
   "id": "c52ea2f9-03ff-4647-b782-46867ebed04e",
   "metadata": {},
   "source": [
    "# Filtering and trimming messages\n",
    "\n",
    "## Review\n",
    "\n",
    "Now, we have a deeper understanding of a few things: \n",
    "\n",
    "* How to customize the graph state schema\n",
    "* How to define custom state reducers\n",
    "* How to use multiple graph state schemas\n",
    "\n",
    "## Goals\n",
    "\n",
    "Now, we can start using these concepts with models in LangGraph!\n",
    " \n",
    "In the next few sessions, we'll build towards a chatbot that has long-term memory.\n",
    "\n",
    "Because our chatbot will use messages, let's first talk a bit more about advanced ways to work with messages in graph state."
   ]
  },
  {
   "cell_type": "code",
   "execution_count": 53,
   "id": "d5197aba-5d46-421b-ae3b-4e3034edcfda",
   "metadata": {},
   "outputs": [],
   "source": [
    "%%capture --no-stderr\n",
    "%pip install --quiet -U langchain_core langgraph langchain_openai"
   ]
  },
  {
   "cell_type": "code",
   "execution_count": 54,
   "id": "768dc606-d5f2-468d-96ea-910b264e0f8a",
   "metadata": {},
   "outputs": [
    {
     "data": {
      "text/plain": [
       "True"
      ]
     },
     "execution_count": 54,
     "metadata": {},
     "output_type": "execute_result"
    }
   ],
   "source": [
    "import os\n",
    "from dotenv import load_dotenv\n",
    "load_dotenv(dotenv_path=\"../module-2/studio/.env\", override=True)"
   ]
  },
  {
   "cell_type": "markdown",
   "id": "8b64d8d3-e4ac-4961-bdc0-688825eb5864",
   "metadata": {},
   "source": [
    "We'll use [LangSmith](https://docs.smith.langchain.com/) for [tracing](https://docs.smith.langchain.com/concepts/tracing).\n",
    "\n",
    "We'll log to a project, `langchain-academy`. "
   ]
  },
  {
   "cell_type": "markdown",
   "id": "72f3fc90-58b6-4f7f-897e-dddf6ae532c7",
   "metadata": {},
   "source": [
    "## Messages as state\n",
    "\n",
    "First, let's define some messages."
   ]
  },
  {
   "cell_type": "code",
   "execution_count": 55,
   "id": "cf11a463-e27a-4a05-b41d-64882e38edca",
   "metadata": {},
   "outputs": [
    {
     "name": "stdout",
     "output_type": "stream",
     "text": [
      "==================================\u001b[1m Ai Message \u001b[0m==================================\n",
      "Name: Bot\n",
      "\n",
      "So you said you were researching ocean mammals?\n",
      "================================\u001b[1m Human Message \u001b[0m=================================\n",
      "Name: Lance\n",
      "\n",
      "Yes, I know about whales. But what others should I learn about?\n"
     ]
    }
   ],
   "source": [
    "from pprint import pprint\n",
    "from langchain_core.messages import AIMessage, HumanMessage\n",
    "messages = [AIMessage(f\"So you said you were researching ocean mammals?\", name=\"Bot\")]\n",
    "messages.append(HumanMessage(f\"Yes, I know about whales. But what others should I learn about?\", name=\"Lance\"))\n",
    "\n",
    "for m in messages:\n",
    "    m.pretty_print()"
   ]
  },
  {
   "cell_type": "markdown",
   "id": "b814adcb-6bf9-4b75-be11-e59f933fbd0c",
   "metadata": {},
   "source": [
    "Recall we can pass them to a chat model."
   ]
  },
  {
   "cell_type": "code",
   "execution_count": 56,
   "id": "4712e288-e622-48a2-ad3f-a52f65f3ab08",
   "metadata": {},
   "outputs": [
    {
     "data": {
      "text/plain": [
       "AIMessage(content='In addition to whales, there are several fascinating ocean mammals you might want to learn about:\\n\\n1. **Dolphins**: Known for their intelligence and social behavior, there are over 40 species of dolphins, including the common bottlenose dolphin and the orca, also known as the killer whale (despite being part of the dolphin family).\\n\\n2. **Porpoises**: Similar to dolphins but generally smaller and with different teeth shapes, porpoises are less prevalent than dolphins and include species such as the harbor porpoise and the vaquita, which is critically endangered.\\n\\n3. **Seals**: These include true seals, like the harbor seal, and eared seals, like sea lions and fur seals. They are adept both in water and on land.\\n\\n4. **Sea Lions**: Known for their external ear flaps and ability to \"walk\" on land with their large flippers, sea lions are often seen in zoos and aquariums.\\n\\n5. **Walruses**: Recognizable by their long tusks and whiskers, walruses are large marine mammals living in the Arctic regions.\\n\\n6. **Manatees and Dugongs**: Known as “sea cows,” these gentle herbivores graze on seagrass and are found in warm coastal waters.\\n\\n7. **Sea Otters**: While not typically thought of as ocean mammals, sea otters spend most of their life in the water and are integral to kelp forest ecosystems.\\n\\n8. **Polar Bears**: While primarily terrestrial, polar bears are often considered marine mammals due to their dependence on sea ice and marine environments for hunting seals.\\n\\nEach of these groups has its own unique adaptations and plays important roles in their respective ecosystems. They are all worth studying to understand the diversity and interconnectedness of life in marine environments.', additional_kwargs={'refusal': None}, response_metadata={'token_usage': {'completion_tokens': 372, 'prompt_tokens': 39, 'total_tokens': 411, 'completion_tokens_details': {'accepted_prediction_tokens': 0, 'audio_tokens': 0, 'reasoning_tokens': 0, 'rejected_prediction_tokens': 0}, 'prompt_tokens_details': {'audio_tokens': 0, 'cached_tokens': 0}}, 'model_provider': 'openai', 'model_name': 'gpt-4o-2024-08-06', 'system_fingerprint': 'fp_cbf1785567', 'id': 'chatcmpl-CTqFRuJUsKQfnSSId5FPn6SEP0Dxa', 'service_tier': 'default', 'finish_reason': 'stop', 'logprobs': None}, id='lc_run--7f9ff21e-a487-4525-b2b6-e3411b9600e1-0', usage_metadata={'input_tokens': 39, 'output_tokens': 372, 'total_tokens': 411, 'input_token_details': {'audio': 0, 'cache_read': 0}, 'output_token_details': {'audio': 0, 'reasoning': 0}})"
      ]
     },
     "execution_count": 56,
     "metadata": {},
     "output_type": "execute_result"
    }
   ],
   "source": [
    "from langchain_openai import ChatOpenAI\n",
    "llm = ChatOpenAI(model=\"gpt-4o\")\n",
    "llm.invoke(messages)"
   ]
  },
  {
   "cell_type": "markdown",
   "id": "fbd1dab8-0af8-4621-8264-ce65065f76ec",
   "metadata": {},
   "source": [
    "We can run our chat model in a simple graph with `MessagesState`."
   ]
  },
  {
   "cell_type": "code",
   "execution_count": 57,
   "id": "bbd8c39c-633b-4176-9cc6-8318e42bb5dd",
   "metadata": {},
   "outputs": [
    {
     "data": {
      "image/png": "[encoded data removed]",
      "text/plain": [
       "<IPython.core.display.Image object>"
      ]
     },
     "metadata": {},
     "output_type": "display_data"
    }
   ],
   "source": [
    "from IPython.display import Image, display\n",
    "from langgraph.graph import MessagesState\n",
    "from langgraph.graph import StateGraph, START, END\n",
    "\n",
    "# Node\n",
    "def chat_model_node(state: MessagesState):\n",
    "    return {\"messages\": llm.invoke(state[\"messages\"])}\n",
    "\n",
    "# Build graph\n",
    "builder = StateGraph(MessagesState)\n",
    "builder.add_node(\"chat_model\", chat_model_node)\n",
    "builder.add_edge(START, \"chat_model\")\n",
    "builder.add_edge(\"chat_model\", END)\n",
    "graph = builder.compile()\n",
    "\n",
    "# View\n",
    "display(Image(graph.get_graph().draw_mermaid_png()))"
   ]
  },
  {
   "cell_type": "code",
   "execution_count": 58,
   "id": "3a5a3e4a-ccfd-4d14-81f1-f0de6e11a1e4",
   "metadata": {},
   "outputs": [
    {
     "name": "stdout",
     "output_type": "stream",
     "text": [
      "==================================\u001b[1m Ai Message \u001b[0m==================================\n",
      "Name: Bot\n",
      "\n",
      "So you said you were researching ocean mammals?\n",
      "================================\u001b[1m Human Message \u001b[0m=================================\n",
      "Name: Lance\n",
      "\n",
      "Yes, I know about whales. But what others should I learn about?\n",
      "==================================\u001b[1m Ai Message \u001b[0m==================================\n",
      "\n",
      "In addition to whales, there are several interesting ocean mammals you can learn about. Here are a few:\n",
      "\n",
      "1. **Dolphins**: These intelligent and social animals are found in oceans worldwide. They use echolocation to communicate and hunt.\n",
      "\n",
      "2. **Porpoises**: Similar to dolphins, porpoises are smaller and have different shaped teeth and fins. They are more solitary and tend to be shy.\n",
      "\n",
      "3. **Seals**: Seals are pinnipeds, meaning \"fin-footed,\" and they are well-adapted to life in the water. They come in various species, such as the harbor seal and the elephant seal.\n",
      "\n",
      "4. **Sea Lions**: Often confused with seals, sea lions are more social and have external ear flaps and larger flippers, allowing them to \"walk\" on land.\n",
      "\n",
      "5. **Walruses**: Recognizable by their long tusks, walruses use them for pulling themselves out of the water and for defense. They are primarily found in the Arctic.\n",
      "\n",
      "6. **Manatees**: Also known as sea cows, manatees are gentle herbivores that live in shallow coastal waters and rivers. They are known for their slow-moving, peaceful nature.\n",
      "\n",
      "7. **Dugongs**: Similar to manatees, dugongs are found in warm coastal waters from East Africa to Australia. They are strictly marine and do not frequent freshwater.\n",
      "\n",
      "8. **Sea Otters**: Though they spend much of their time in the water, sea otters are part of the weasel family. They are known for using tools to open shells and are crucial to their ecosystems.\n",
      "\n",
      "Each of these mammals has unique adaptations and behaviors that make them fascinating to study. They play important roles in marine ecosystems and offer insights into the health of ocean environments.\n"
     ]
    }
   ],
   "source": [
    "output = graph.invoke({'messages': messages})\n",
    "for m in output['messages']:\n",
    "    m.pretty_print()"
   ]
  },
  {
   "cell_type": "markdown",
   "id": "34c33e63-1ef4-412d-bb10-6a1b9e5b35a7",
   "metadata": {},
   "source": [
    "## Reducer\n",
    "\n",
    "A practical challenge when working with messages is managing long-running conversations. \n",
    "\n",
    "Long-running conversations result in high token usage and latency if we are not careful, because we pass a growing list of messages to the model.\n",
    "\n",
    "We have a few ways to address this.\n",
    "\n",
    "First, recall the trick we saw using `RemoveMessage` and the `add_messages` reducer."
   ]
  },
  {
   "cell_type": "code",
   "execution_count": 59,
   "id": "222c6bc5-bb0e-4a43-80f5-c8ec38d99f3a",
   "metadata": {},
   "outputs": [
    {
     "data": {
      "image/png": "[encoded data removed]",
      "text/plain": [
       "<IPython.core.display.Image object>"
      ]
     },
     "metadata": {},
     "output_type": "display_data"
    }
   ],
   "source": [
    "from langchain_core.messages import RemoveMessage\n",
    "\n",
    "# Nodes\n",
    "def filter_messages(state: MessagesState):\n",
    "    # Delete all but the 2 most recent messages\n",
    "    delete_messages = [RemoveMessage(id=m.id) for m in state[\"messages\"][:-2]]\n",
    "    return {\"messages\": delete_messages}\n",
    "\n",
    "def chat_model_node(state: MessagesState):    \n",
    "    return {\"messages\": [llm.invoke(state[\"messages\"])]}\n",
    "\n",
    "# Build graph\n",
    "builder = StateGraph(MessagesState)\n",
    "builder.add_node(\"filter\", filter_messages)\n",
    "builder.add_node(\"chat_model\", chat_model_node)\n",
    "builder.add_edge(START, \"filter\")\n",
    "builder.add_edge(\"filter\", \"chat_model\")\n",
    "builder.add_edge(\"chat_model\", END)\n",
    "graph = builder.compile()\n",
    "\n",
    "# View\n",
    "display(Image(graph.get_graph().draw_mermaid_png()))"
   ]
  },
  {
   "cell_type": "code",
   "execution_count": 60,
   "id": "95a7c2cc-54ce-43e7-9a90-abf37827d709",
   "metadata": {},
   "outputs": [
    {
     "name": "stdout",
     "output_type": "stream",
     "text": [
      "==================================\u001b[1m Ai Message \u001b[0m==================================\n",
      "Name: Bot\n",
      "\n",
      "So you said you were researching ocean mammals?\n",
      "================================\u001b[1m Human Message \u001b[0m=================================\n",
      "Name: Lance\n",
      "\n",
      "Yes, I know about whales. But what others should I learn about?\n",
      "==================================\u001b[1m Ai Message \u001b[0m==================================\n",
      "\n",
      "In addition to whales, there's a fascinating array of ocean mammals you might find interesting to research:\n",
      "\n",
      "1. **Dolphins** - Known for their intelligence and sociability, dolphins are a diverse group of marine mammals. There are many different species, including the common bottlenose dolphin and the orca, or killer whale, which is actually the largest member of the dolphin family.\n",
      "\n",
      "2. **Porpoises** - Often confused with dolphins, porpoises are smaller and have different body shapes and dental structures.\n",
      "\n",
      "3. **Seals and Sea Lions** - These are pinnipeds, which have fin-like flippers and can come on land to rest and breed. Seals generally lack external ear flaps, while sea lions have visible ear flaps and larger flippers.\n",
      "\n",
      "4. **Walruses** - Known for their long tusks and whiskers, walruses are large pinnipeds that dwell in Arctic regions.\n",
      "\n",
      "5. **Manatees and Dugongs** - Often referred to as sea cows, these are herbivorous marine mammals known for their gentle nature. Manatees primarily live in the warm waters off the coast of Florida, while dugongs are found in the waters of the Indian Ocean and western Pacific Ocean.\n",
      "\n",
      "6. **Sea Otters** - While not huge like whales, sea otters are important marine mammals, especially known for their role in maintaining the health of kelp forests.\n",
      "\n",
      "7. **Polar Bears** - While they spend a lot of time on ice rather than in the water, polar bears rely on the marine environment for survival, hunting seals from the sea ice.\n",
      "\n",
      "Each of these mammals has unique adaptations and plays specific roles in their ecosystems, making them all worthy subjects of study.\n"
     ]
    }
   ],
   "source": [
    "# Message list with a preamble\n",
    "messages = [AIMessage(\"Hi.\", name=\"Bot\", id=\"1\")]\n",
    "messages.append(HumanMessage(\"Hi.\", name=\"Lance\", id=\"2\"))\n",
    "messages.append(AIMessage(\"So you said you were researching ocean mammals?\", name=\"Bot\", id=\"3\"))\n",
    "messages.append(HumanMessage(\"Yes, I know about whales. But what others should I learn about?\", name=\"Lance\", id=\"4\"))\n",
    "\n",
    "# Invoke\n",
    "output = graph.invoke({'messages': messages})\n",
    "for m in output['messages']:\n",
    "    m.pretty_print()"
   ]
  },
  {
   "cell_type": "markdown",
   "id": "f506457d-014b-4fee-a684-e5edfb4b8f0d",
   "metadata": {},
   "source": [
    "## Filtering messages\n",
    "\n",
    "If you don't need or want to modify the graph state, you can just filter the messages you pass to the chat model.\n",
    "\n",
    "For example, just pass in a filtered list: `llm.invoke(messages[-1:])` to the model."
   ]
  },
  {
   "cell_type": "code",
   "execution_count": 61,
   "id": "22d0b904-7cd6-486b-8948-105bee3d4683",
   "metadata": {},
   "outputs": [
    {
     "data": {
      "image/png": "[encoded data removed]",
      "text/plain": [
       "<IPython.core.display.Image object>"
      ]
     },
     "metadata": {},
     "output_type": "display_data"
    }
   ],
   "source": [
    "# Node\n",
    "def chat_model_node(state: MessagesState):\n",
    "    return {\"messages\": [llm.invoke(state[\"messages\"][-1:])]}\n",
    "\n",
    "# Build graph\n",
    "builder = StateGraph(MessagesState)\n",
    "builder.add_node(\"chat_model\", chat_model_node)\n",
    "builder.add_edge(START, \"chat_model\")\n",
    "builder.add_edge(\"chat_model\", END)\n",
    "graph = builder.compile()\n",
    "\n",
    "# View\n",
    "display(Image(graph.get_graph().draw_mermaid_png()))"
   ]
  },
  {
   "cell_type": "markdown",
   "id": "6f58c6fc-532f-418d-b70a-cfcb3307daf5",
   "metadata": {},
   "source": [
    "Let's take our existing list of messages, append the above LLM response, and append a follow-up question."
   ]
  },
  {
   "cell_type": "code",
   "execution_count": 62,
   "id": "16956015-1dbe-4108-89b5-4209b68b51ca",
   "metadata": {},
   "outputs": [],
   "source": [
    "messages.append(output['messages'][-1])\n",
    "messages.append(HumanMessage(f\"Tell me more about Narwhals!\", name=\"Lance\"))"
   ]
  },
  {
   "cell_type": "code",
   "execution_count": 63,
   "id": "85563415-c085-46a8-a4ac-155df798c54e",
   "metadata": {},
   "outputs": [
    {
     "name": "stdout",
     "output_type": "stream",
     "text": [
      "==================================\u001b[1m Ai Message \u001b[0m==================================\n",
      "Name: Bot\n",
      "\n",
      "Hi.\n",
      "================================\u001b[1m Human Message \u001b[0m=================================\n",
      "Name: Lance\n",
      "\n",
      "Hi.\n",
      "==================================\u001b[1m Ai Message \u001b[0m==================================\n",
      "Name: Bot\n",
      "\n",
      "So you said you were researching ocean mammals?\n",
      "================================\u001b[1m Human Message \u001b[0m=================================\n",
      "Name: Lance\n",
      "\n",
      "Yes, I know about whales. But what others should I learn about?\n",
      "==================================\u001b[1m Ai Message \u001b[0m==================================\n",
      "\n",
      "In addition to whales, there's a fascinating array of ocean mammals you might find interesting to research:\n",
      "\n",
      "1. **Dolphins** - Known for their intelligence and sociability, dolphins are a diverse group of marine mammals. There are many different species, including the common bottlenose dolphin and the orca, or killer whale, which is actually the largest member of the dolphin family.\n",
      "\n",
      "2. **Porpoises** - Often confused with dolphins, porpoises are smaller and have different body shapes and dental structures.\n",
      "\n",
      "3. **Seals and Sea Lions** - These are pinnipeds, which have fin-like flippers and can come on land to rest and breed. Seals generally lack external ear flaps, while sea lions have visible ear flaps and larger flippers.\n",
      "\n",
      "4. **Walruses** - Known for their long tusks and whiskers, walruses are large pinnipeds that dwell in Arctic regions.\n",
      "\n",
      "5. **Manatees and Dugongs** - Often referred to as sea cows, these are herbivorous marine mammals known for their gentle nature. Manatees primarily live in the warm waters off the coast of Florida, while dugongs are found in the waters of the Indian Ocean and western Pacific Ocean.\n",
      "\n",
      "6. **Sea Otters** - While not huge like whales, sea otters are important marine mammals, especially known for their role in maintaining the health of kelp forests.\n",
      "\n",
      "7. **Polar Bears** - While they spend a lot of time on ice rather than in the water, polar bears rely on the marine environment for survival, hunting seals from the sea ice.\n",
      "\n",
      "Each of these mammals has unique adaptations and plays specific roles in their ecosystems, making them all worthy subjects of study.\n",
      "================================\u001b[1m Human Message \u001b[0m=================================\n",
      "Name: Lance\n",
      "\n",
      "Tell me more about Narwhals!\n"
     ]
    }
   ],
   "source": [
    "for m in messages:\n",
    "    m.pretty_print()"
   ]
  },
  {
   "cell_type": "code",
   "execution_count": 64,
   "id": "23349705-a059-47b5-9760-d8f64e687393",
   "metadata": {},
   "outputs": [
    {
     "name": "stdout",
     "output_type": "stream",
     "text": [
      "==================================\u001b[1m Ai Message \u001b[0m==================================\n",
      "Name: Bot\n",
      "\n",
      "Hi.\n",
      "================================\u001b[1m Human Message \u001b[0m=================================\n",
      "Name: Lance\n",
      "\n",
      "Hi.\n",
      "==================================\u001b[1m Ai Message \u001b[0m==================================\n",
      "Name: Bot\n",
      "\n",
      "So you said you were researching ocean mammals?\n",
      "================================\u001b[1m Human Message \u001b[0m=================================\n",
      "Name: Lance\n",
      "\n",
      "Yes, I know about whales. But what others should I learn about?\n",
      "==================================\u001b[1m Ai Message \u001b[0m==================================\n",
      "\n",
      "In addition to whales, there's a fascinating array of ocean mammals you might find interesting to research:\n",
      "\n",
      "1. **Dolphins** - Known for their intelligence and sociability, dolphins are a diverse group of marine mammals. There are many different species, including the common bottlenose dolphin and the orca, or killer whale, which is actually the largest member of the dolphin family.\n",
      "\n",
      "2. **Porpoises** - Often confused with dolphins, porpoises are smaller and have different body shapes and dental structures.\n",
      "\n",
      "3. **Seals and Sea Lions** - These are pinnipeds, which have fin-like flippers and can come on land to rest and breed. Seals generally lack external ear flaps, while sea lions have visible ear flaps and larger flippers.\n",
      "\n",
      "4. **Walruses** - Known for their long tusks and whiskers, walruses are large pinnipeds that dwell in Arctic regions.\n",
      "\n",
      "5. **Manatees and Dugongs** - Often referred to as sea cows, these are herbivorous marine mammals known for their gentle nature. Manatees primarily live in the warm waters off the coast of Florida, while dugongs are found in the waters of the Indian Ocean and western Pacific Ocean.\n",
      "\n",
      "6. **Sea Otters** - While not huge like whales, sea otters are important marine mammals, especially known for their role in maintaining the health of kelp forests.\n",
      "\n",
      "7. **Polar Bears** - While they spend a lot of time on ice rather than in the water, polar bears rely on the marine environment for survival, hunting seals from the sea ice.\n",
      "\n",
      "Each of these mammals has unique adaptations and plays specific roles in their ecosystems, making them all worthy subjects of study.\n",
      "================================\u001b[1m Human Message \u001b[0m=================================\n",
      "Name: Lance\n",
      "\n",
      "Tell me more about Narwhals!\n",
      "==================================\u001b[1m Ai Message \u001b[0m==================================\n",
      "\n",
      "Narwhals, often referred to as the \"unicorns of the sea,\" are fascinating marine mammals known for their distinctive long, spiral tusk that can reach lengths of up to 10 feet (3 meters). These tusks are actually elongated canine teeth, and while both males and some females have them, they are more commonly associated with males. The exact function of the narwhal's tusk has been the subject of much speculation and research. Some suggest it is used as a sensory organ, as the tusk contains millions of nerve endings that may help detect changes in the environment, while others believe it plays a role in mating rituals or in establishing dominance within social groups.\n",
      "\n",
      "Narwhals belong to the Monodontidae family, which they share with the beluga whale. They are found predominantly in the Arctic waters around Greenland, Canada, and Russia. Their habitat is closely linked to the presence of sea ice, which is crucial for their survival.\n",
      "\n",
      "These whales have a diet primarily consisting of fish, squid, and shrimp. They are known for their deep-diving abilities, often reaching depths of over 4,900 feet (1,500 meters) to forage for food. Narwhals are well-adapted to their cold environment, with a thick layer of blubber providing insulation against freezing temperatures.\n",
      "\n",
      "Social animals by nature, narwhals typically travel in groups, known as pods, which can range from small gatherings to large aggregations of hundreds. Communication within these pods is facilitated through an array of clicks, whistles, and other vocalizations.\n",
      "\n",
      "Narwhals face various threats, both natural and human-induced. Climate change poses a significant risk by impacting sea ice patterns and availability of prey. Additionally, they are hunted by indigenous communities for their tusks and meat, a practice that is regulated and integral to the cultures of Arctic peoples.\n",
      "\n",
      "Conservation efforts are in place to monitor narwhal populations and ensure their protection. Research continues to better understand their ecology, behavior, and the impacts of environmental changes on their survival.\n"
     ]
    }
   ],
   "source": [
    "# Invoke, using message filtering\n",
    "output = graph.invoke({'messages': messages})\n",
    "for m in output['messages']:\n",
    "    m.pretty_print()"
   ]
  },
  {
   "cell_type": "markdown",
   "id": "42e1d8d2-e297-4d78-b54c-d12b3c866745",
   "metadata": {},
   "source": [
    "The state has all of the mesages.\n",
    "\n",
    "But, let's look at the LangSmith trace to see that the model invocation only uses the last message:\n",
    "\n",
    "https://smith.langchain.com/public/75aca3ce-ef19-4b92-94be-0178c7a660d9/r"
   ]
  },
  {
   "cell_type": "markdown",
   "id": "fc40d930-3c1f-47fe-8d2a-ce174873353c",
   "metadata": {},
   "source": [
    "## Trim messages\n",
    "\n",
    "Another approach is to [trim messages](https://python.langchain.com/v0.2/docs/how_to/trim_messages/#getting-the-last-max_tokens-tokens), based upon a set number of tokens. \n",
    "\n",
    "This restricts the message history to a specified number of tokens.\n",
    "\n",
    "While filtering only returns a post-hoc subset of the messages between agents, trimming restricts the number of tokens that a chat model can use to respond.\n",
    "\n",
    "See the `trim_messages` below."
   ]
  },
  {
   "cell_type": "code",
   "execution_count": 65,
   "id": "2ff99b81-cf03-4cc2-b44f-44829a73e1fd",
   "metadata": {},
   "outputs": [
    {
     "data": {
      "image/png": "[encoded data removed]",
      "text/plain": [
       "<IPython.core.display.Image object>"
      ]
     },
     "metadata": {},
     "output_type": "display_data"
    }
   ],
   "source": [
    "from langchain_core.messages import trim_messages\n",
    "\n",
    "# Node\n",
    "def chat_model_node(state: MessagesState):\n",
    "    messages = trim_messages(\n",
    "            state[\"messages\"],\n",
    "            max_tokens=100,\n",
    "            strategy=\"last\",\n",
    "            token_counter=ChatOpenAI(model=\"gpt-4o\"),\n",
    "            allow_partial=False,\n",
    "        )\n",
    "    return {\"messages\": [llm.invoke(messages)]}\n",
    "\n",
    "# Build graph\n",
    "builder = StateGraph(MessagesState)\n",
    "builder.add_node(\"chat_model\", chat_model_node)\n",
    "builder.add_edge(START, \"chat_model\")\n",
    "builder.add_edge(\"chat_model\", END)\n",
    "graph = builder.compile()\n",
    "\n",
    "# View\n",
    "display(Image(graph.get_graph().draw_mermaid_png()))"
   ]
  },
  {
   "cell_type": "code",
   "execution_count": 66,
   "id": "24df63ac-da29-4874-b3df-7e390e97cc8a",
   "metadata": {},
   "outputs": [],
   "source": [
    "messages.append(output['messages'][-1])\n",
    "messages.append(HumanMessage(f\"Tell me where Orcas live!\", name=\"Lance\"))"
   ]
  },
  {
   "cell_type": "code",
   "execution_count": 67,
   "id": "6d9d8971-c75c-43ca-a209-eb1d07b2ead0",
   "metadata": {},
   "outputs": [
    {
     "data": {
      "text/plain": [
       "[HumanMessage(content='Tell me where Orcas live!', additional_kwargs={}, response_metadata={}, name='Lance')]"
      ]
     },
     "execution_count": 67,
     "metadata": {},
     "output_type": "execute_result"
    }
   ],
   "source": [
    "# Example of trimming messages\n",
    "trim_messages(\n",
    "            messages,\n",
    "            max_tokens=100,\n",
    "            strategy=\"last\",\n",
    "            token_counter=ChatOpenAI(model=\"gpt-4o\"),\n",
    "            allow_partial=False\n",
    "        )"
   ]
  },
  {
   "cell_type": "code",
   "execution_count": 68,
   "id": "ed70a269-a869-4fa0-a1df-29736a432c51",
   "metadata": {},
   "outputs": [],
   "source": [
    "# Invoke, using message trimming in the chat_model_node \n",
    "messages_out_trim = graph.invoke({'messages': messages})"
   ]
  },
  {
   "cell_type": "markdown",
   "id": "38b3db67-380e-46b5-9a6a-20100ba52008",
   "metadata": {},
   "source": [
    "Let's look at the LangSmith trace to see the model invocation:\n",
    "\n",
    "https://smith.langchain.com/public/b153f7e9-f1a5-4d60-8074-f0d7ab5b42ef/r"
   ]
  },
  {
   "cell_type": "markdown",
   "id": "34190f84",
   "metadata": {},
   "source": [
    "# TWEAKS\n"
   ]
  },
  {
   "cell_type": "code",
   "execution_count": 69,
   "id": "2a336f57",
   "metadata": {},
   "outputs": [
    {
     "name": "stdout",
     "output_type": "stream",
     "text": [
      "Shortened chat history:\n",
      "USER: There’s a known alert that may trigger under some cases.\n",
      "ASSISTANT: Got it — I’ll flag that for revision.\n",
      "USER: Perfect. Let’s also add a note for Aviral and Shambhavi.\n",
      "\n",
      "Filtered chat (removed 'alert' and 'error'):\n",
      "USER: Hi! Could you briefly explain the highlights of this file?\n",
      "ASSISTANT: Sure! Here’s a concise breakdown of the main insights.\n",
      "ASSISTANT: Got it — I’ll flag that for revision.\n",
      "USER: Perfect. Let’s also add a note for Aviral and Shambhavi.\n",
      "\n",
      "Final processed chat:\n",
      "ASSISTANT: Got it — I’ll flag that for revision.\n",
      "USER: Perfect. Let’s also add a note for Aviral and Shambhavi.\n"
     ]
    }
   ],
   "source": [
    "conversation_log = [\n",
    "    {\"role\": \"user\", \"content\": \"Hi! Could you briefly explain the highlights of this file?\"},\n",
    "    {\"role\": \"assistant\", \"content\": \"Sure! Here’s a concise breakdown of the main insights.\"},\n",
    "    {\"role\": \"user\", \"content\": \"There’s a known alert that may trigger under some cases.\"},\n",
    "    {\"role\": \"assistant\", \"content\": \"Got it — I’ll flag that for revision.\"},\n",
    "    {\"role\": \"user\", \"content\": \"Perfect. Let’s also add a note for Aviral and Shambhavi.\"},\n",
    "]\n",
    "\n",
    "def crop_chat_history(chat_log, keep=3):\n",
    "    \"\"\"Keeps the most recent `keep` messages.\"\"\"\n",
    "    return chat_log[-keep:] if len(chat_log) > keep else chat_log\n",
    "\n",
    "shortened = crop_chat_history(conversation_log, keep=3)\n",
    "print(\"Shortened chat history:\")\n",
    "for msg in shortened:\n",
    "    print(f\"{msg['role'].upper()}: {msg['content']}\")\n",
    "\n",
    "\n",
    "def omit_messages(chat_log, forbidden_words):\n",
    "    \"\"\"Exclude any messages containing certain words.\"\"\"\n",
    "    return [m for m in chat_log if not any(fw.lower() in m['content'].lower() for fw in forbidden_words)]\n",
    "\n",
    "filtered_history = omit_messages(conversation_log, [\"alert\", \"error\"])\n",
    "print(\"\\nFiltered chat (removed 'alert' and 'error'):\")\n",
    "for msg in filtered_history:\n",
    "    print(f\"{msg['role'].upper()}: {msg['content']}\")\n",
    "\n",
    "def clean_and_crop(chat_log, forbidden_words=None, keep=3):\n",
    "    \"\"\"Applies filtering and trimming sequentially.\"\"\"\n",
    "    if forbidden_words:\n",
    "        chat_log = omit_messages(chat_log, forbidden_words)\n",
    "    return crop_chat_history(chat_log, keep)\n",
    "\n",
    "final_chat = clean_and_crop(conversation_log, forbidden_words=[\"alert\"], keep=2)\n",
    "print(\"\\nFinal processed chat:\")\n",
    "for msg in final_chat:\n",
    "    print(f\"{msg['role'].upper()}: {msg['content']}\")\n"
   ]
  }
 ],
 "metadata": {
  "kernelspec": {
   "display_name": "Python 3",
   "language": "python",
   "name": "python3"
  },
  "language_info": {
   "codemirror_mode": {
    "name": "ipython",
    "version": 3
   },
   "file_extension": ".py",
   "mimetype": "text/x-python",
   "name": "python",
   "nbconvert_exporter": "python",
   "pygments_lexer": "ipython3",
   "version": "3.12.5"
  }
 },
 "nbformat": 4,
 "nbformat_minor": 5
}
