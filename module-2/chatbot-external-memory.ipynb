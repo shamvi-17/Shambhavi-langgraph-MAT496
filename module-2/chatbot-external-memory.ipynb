{
 "cells": [
  {
   "cell_type": "markdown",
   "id": "cf7ccb32",
   "metadata": {},
   "source": [
    "[![Open in Colab](https://colab.research.google.com/assets/colab-badge.svg)](https://colab.research.google.com/github/langchain-ai/langchain-academy/blob/main/module-2/chatbot-external-memory.ipynb) [![Open in LangChain Academy](https://cdn.prod.website-files.com/65b8cd72835ceeacd4449a53/66e9eba12c7b7688aa3dbb5e_LCA-badge-green.svg)](https://academy.langchain.com/courses/take/intro-to-langgraph/lessons/58239440-lesson-6-chatbot-w-summarizing-messages-and-external-memory)"
   ]
  },
  {
   "cell_type": "markdown",
   "id": "af6c7afe-1037-41ab-98e4-494692e47402",
   "metadata": {},
   "source": [
    "# Chatbot with message summarization & external DB memory\n",
    "\n",
    "## Review\n",
    "\n",
    "We've covered how to customize graph state schema and reducer. \n",
    " \n",
    "We've also shown a number of tricks for trimming or filtering messages in graph state. \n",
    "\n",
    "We've used these concepts in a Chatbot with memory that produces a running summary of the conversation.\n",
    "\n",
    "## Goals\n",
    "\n",
    "But, what if we want our Chatbot to have memory that persists indefinitely?\n",
    "\n",
    "Now, we'll introduce some more advanced checkpointers that support external databases. \n",
    "\n",
    "Here, we'll show how to use [Sqlite as a checkpointer](https://langchain-ai.github.io/langgraph/concepts/low_level/#checkpointer), but other checkpointers, such as [Postgres](https://langchain-ai.github.io/langgraph/how-tos/persistence_postgres/) are available!"
   ]
  },
  {
   "cell_type": "code",
   "execution_count": 9,
   "id": "85ed78d9-6ca2-45ac-96a9-52e341ec519d",
   "metadata": {},
   "outputs": [],
   "source": [
    "%%capture --no-stderr\n",
    "%pip install --quiet -U langgraph-checkpoint-sqlite langchain_core langgraph langchain_openai"
   ]
  },
  {
   "cell_type": "code",
   "execution_count": 10,
   "id": "2e10c4d4",
   "metadata": {},
   "outputs": [
    {
     "data": {
      "text/plain": [
       "True"
      ]
     },
     "execution_count": 10,
     "metadata": {},
     "output_type": "execute_result"
    }
   ],
   "source": [
    "import os\n",
    "from dotenv import load_dotenv\n",
    "load_dotenv(dotenv_path=\"../module-2/studio/.env\", override=True)"
   ]
  },
  {
   "cell_type": "markdown",
   "id": "b40d25c0-e9b5-4854-bf07-3cc3ff07122e",
   "metadata": {},
   "source": [
    "## Sqlite\n",
    "\n",
    "A good starting point here is the [SqliteSaver checkpointer](https://langchain-ai.github.io/langgraph/concepts/low_level/#checkpointer).\n",
    "\n",
    "Sqlite is a [small, fast, highly popular](https://x.com/karpathy/status/1819490455664685297) SQL database. \n",
    " \n",
    "If we supply `\":memory:\"` it creates an in-memory Sqlite database."
   ]
  },
  {
   "cell_type": "code",
   "execution_count": 11,
   "id": "fae15402-17ae-4e89-8ecf-4c89e08b22fe",
   "metadata": {},
   "outputs": [],
   "source": [
    "import sqlite3\n",
    "# In memory\n",
    "conn = sqlite3.connect(\":memory:\", check_same_thread = False)"
   ]
  },
  {
   "cell_type": "markdown",
   "id": "c2bf53ec-6d4a-42ce-8183-344795eed403",
   "metadata": {},
   "source": [
    "But, if we supply a db path, then it will create a database for us!"
   ]
  },
  {
   "cell_type": "code",
   "execution_count": 12,
   "id": "58339167-920c-4994-a0a7-0a9c5d4f7cf7",
   "metadata": {},
   "outputs": [],
   "source": [
    "# pull file if it doesn't exist and connect to local db\n",
    "!mkdir -p state_db && [ ! -f state_db/example.db ] && wget -P state_db https://github.com/langchain-ai/langchain-academy/raw/main/module-2/state_db/example.db\n",
    "\n",
    "db_path = \"state_db/example.db\"\n",
    "conn = sqlite3.connect(db_path, check_same_thread=False)"
   ]
  },
  {
   "cell_type": "code",
   "execution_count": 13,
   "id": "3c7736b6-a750-48f8-a838-8e7616b12250",
   "metadata": {},
   "outputs": [],
   "source": [
    "# Here is our checkpointer \n",
    "from langgraph.checkpoint.sqlite import SqliteSaver\n",
    "memory = SqliteSaver(conn)"
   ]
  },
  {
   "cell_type": "markdown",
   "id": "9d8cb629-213f-4b87-965e-19b812c42da1",
   "metadata": {},
   "source": [
    "Let's re-define our chatbot."
   ]
  },
  {
   "cell_type": "code",
   "execution_count": 14,
   "id": "dc414e29-2078-41a0-887c-af1a6a3d72c0",
   "metadata": {},
   "outputs": [],
   "source": [
    "from typing_extensions import Literal\n",
    "from langchain_openai import ChatOpenAI\n",
    "from langchain_core.messages import SystemMessage, HumanMessage, RemoveMessage\n",
    "\n",
    "from langgraph.graph import END\n",
    "from langgraph.graph import MessagesState\n",
    "\n",
    "\n",
    "model = ChatOpenAI(model=\"gpt-4o\",temperature=0)\n",
    "\n",
    "class State(MessagesState):\n",
    "    summary: str\n",
    "\n",
    "# Define the logic to call the model\n",
    "def call_model(state: State):\n",
    "    \n",
    "    # Get summary if it exists\n",
    "    summary = state.get(\"summary\", \"\")\n",
    "\n",
    "    # If there is summary, then we add it\n",
    "    if summary:\n",
    "        \n",
    "        # Add summary to system message\n",
    "        system_message = f\"Summary of conversation earlier: {summary}\"\n",
    "\n",
    "        # Append summary to any newer messages\n",
    "        messages = [SystemMessage(content=system_message)] + state[\"messages\"]\n",
    "    \n",
    "    else:\n",
    "        messages = state[\"messages\"]\n",
    "    \n",
    "    response = model.invoke(messages)\n",
    "    return {\"messages\": response}\n",
    "\n",
    "def summarize_conversation(state: State):\n",
    "    \n",
    "    # First, we get any existing summary\n",
    "    summary = state.get(\"summary\", \"\")\n",
    "\n",
    "    # Create our summarization prompt \n",
    "    if summary:\n",
    "        \n",
    "        # A summary already exists\n",
    "        summary_message = (\n",
    "            f\"This is summary of the conversation to date: {summary}\\n\\n\"\n",
    "            \"Extend the summary by taking into account the new messages above:\"\n",
    "        )\n",
    "        \n",
    "    else:\n",
    "        summary_message = \"Create a summary of the conversation above:\"\n",
    "\n",
    "    # Add prompt to our history\n",
    "    messages = state[\"messages\"] + [HumanMessage(content=summary_message)]\n",
    "    response = model.invoke(messages)\n",
    "    \n",
    "    # Delete all but the 2 most recent messages\n",
    "    delete_messages = [RemoveMessage(id=m.id) for m in state[\"messages\"][:-2]]\n",
    "    return {\"summary\": response.content, \"messages\": delete_messages}\n",
    "\n",
    "# Determine whether to end or summarize the conversation\n",
    "def should_continue(state: State)-> Literal [\"summarize_conversation\",END]:\n",
    "    \n",
    "    \"\"\"Return the next node to execute.\"\"\"\n",
    "    \n",
    "    messages = state[\"messages\"]\n",
    "    \n",
    "    # If there are more than six messages, then we summarize the conversation\n",
    "    if len(messages) > 6:\n",
    "        return \"summarize_conversation\"\n",
    "    \n",
    "    # Otherwise we can just end\n",
    "    return END"
   ]
  },
  {
   "cell_type": "markdown",
   "id": "41c13c0b-a383-4f73-9cc1-63f0eed8f190",
   "metadata": {},
   "source": [
    "Now, we just re-compile with our sqlite checkpointer."
   ]
  },
  {
   "cell_type": "code",
   "execution_count": 15,
   "id": "e867fd95-91eb-4ce1-82fc-bb72d611a96d",
   "metadata": {},
   "outputs": [
    {
     "data": {
      "image/png": "[encoded data removed]",
      "text/plain": [
       "<IPython.core.display.Image object>"
      ]
     },
     "metadata": {},
     "output_type": "display_data"
    }
   ],
   "source": [
    "from IPython.display import Image, display\n",
    "from langgraph.graph import StateGraph, START\n",
    "\n",
    "# Define a new graph\n",
    "workflow = StateGraph(State)\n",
    "workflow.add_node(\"conversation\", call_model)\n",
    "workflow.add_node(summarize_conversation)\n",
    "\n",
    "# Set the entrypoint as conversation\n",
    "workflow.add_edge(START, \"conversation\")\n",
    "workflow.add_conditional_edges(\"conversation\", should_continue)\n",
    "workflow.add_edge(\"summarize_conversation\", END)\n",
    "\n",
    "# Compile\n",
    "graph = workflow.compile(checkpointer=memory)\n",
    "display(Image(graph.get_graph().draw_mermaid_png()))"
   ]
  },
  {
   "cell_type": "markdown",
   "id": "8769db99-3938-45e6-a594-56beb18d6c45",
   "metadata": {},
   "source": [
    "Now, we can invoke the graph several times. "
   ]
  },
  {
   "cell_type": "code",
   "execution_count": 16,
   "id": "0f4094a0-d240-4be8-903a-7d9f605bdc5c",
   "metadata": {},
   "outputs": [
    {
     "name": "stdout",
     "output_type": "stream",
     "text": [
      "==================================\u001b[1m Ai Message \u001b[0m==================================\n",
      "\n",
      "Hello again, Lance! It's great to hear from you. If there's anything specific you'd like to discuss or any questions you have, feel free to let me know!\n",
      "==================================\u001b[1m Ai Message \u001b[0m==================================\n",
      "\n",
      "Your name is Lance!\n",
      "==================================\u001b[1m Ai Message \u001b[0m==================================\n",
      "\n",
      "That's awesome! The San Francisco 49ers have a rich history and a passionate fan base. Do you have a favorite player or a memorable game that you enjoyed watching?\n"
     ]
    }
   ],
   "source": [
    "# Create a thread\n",
    "config = {\"configurable\": {\"thread_id\": \"1\"}}\n",
    "\n",
    "# Start conversation\n",
    "input_message = HumanMessage(content=\"hi! I'm Lance\")\n",
    "output = graph.invoke({\"messages\": [input_message]}, config) \n",
    "for m in output['messages'][-1:]:\n",
    "    m.pretty_print()\n",
    "\n",
    "input_message = HumanMessage(content=\"what's my name?\")\n",
    "output = graph.invoke({\"messages\": [input_message]}, config) \n",
    "for m in output['messages'][-1:]:\n",
    "    m.pretty_print()\n",
    "\n",
    "input_message = HumanMessage(content=\"i like the 49ers!\")\n",
    "output = graph.invoke({\"messages\": [input_message]}, config) \n",
    "for m in output['messages'][-1:]:\n",
    "    m.pretty_print()"
   ]
  },
  {
   "cell_type": "markdown",
   "id": "c0f3e842-4497-45e2-a924-69672a9bcb33",
   "metadata": {},
   "source": [
    "Let's confirm that our state is saved locally."
   ]
  },
  {
   "cell_type": "code",
   "execution_count": 17,
   "id": "d2ab158a-5a82-417a-8841-730a4cc18ea7",
   "metadata": {},
   "outputs": [
    {
     "data": {
      "text/plain": [
       "StateSnapshot(values={'messages': [HumanMessage(content=\"hi! I'm Lance\", additional_kwargs={}, response_metadata={}, id='0dc1e883-e5c3-4b5a-b548-4b26932936bb'), AIMessage(content=\"Hello again, Lance! It's great to hear from you. If there's anything specific you'd like to discuss or any questions you have, feel free to let me know!\", additional_kwargs={'refusal': None}, response_metadata={'token_usage': {'completion_tokens': 33, 'prompt_tokens': 345, 'total_tokens': 378, 'completion_tokens_details': {'accepted_prediction_tokens': 0, 'audio_tokens': 0, 'reasoning_tokens': 0, 'rejected_prediction_tokens': 0}, 'prompt_tokens_details': {'audio_tokens': 0, 'cached_tokens': 0}}, 'model_provider': 'openai', 'model_name': 'gpt-4o-2024-08-06', 'system_fingerprint': 'fp_cbf1785567', 'id': 'chatcmpl-CTrexavX22JcWSolGnOK5G0LI4hGk', 'service_tier': 'default', 'finish_reason': 'stop', 'logprobs': None}, id='lc_run--d910bac1-15cb-4a51-81cf-9ed9c0560e60-0', usage_metadata={'input_tokens': 345, 'output_tokens': 33, 'total_tokens': 378, 'input_token_details': {'audio': 0, 'cache_read': 0}, 'output_token_details': {'audio': 0, 'reasoning': 0}}), HumanMessage(content=\"what's my name?\", additional_kwargs={}, response_metadata={}, id='5207fa9a-b91c-4a93-906a-a7f5836abb49'), AIMessage(content='Your name is Lance!', additional_kwargs={'refusal': None}, response_metadata={'token_usage': {'completion_tokens': 5, 'prompt_tokens': 183, 'total_tokens': 188, 'completion_tokens_details': {'accepted_prediction_tokens': 0, 'audio_tokens': 0, 'reasoning_tokens': 0, 'rejected_prediction_tokens': 0}, 'prompt_tokens_details': {'audio_tokens': 0, 'cached_tokens': 0}}, 'model_provider': 'openai', 'model_name': 'gpt-4o-2024-08-06', 'system_fingerprint': 'fp_a788c5aef0', 'id': 'chatcmpl-CTrf3mu2aqlyMJoKSgDHMVoBQi4aF', 'service_tier': 'default', 'finish_reason': 'stop', 'logprobs': None}, id='lc_run--87ffb0d6-0027-460e-a973-650d623867dc-0', usage_metadata={'input_tokens': 183, 'output_tokens': 5, 'total_tokens': 188, 'input_token_details': {'audio': 0, 'cache_read': 0}, 'output_token_details': {'audio': 0, 'reasoning': 0}}), HumanMessage(content='i like the 49ers!', additional_kwargs={}, response_metadata={}, id='bae4922b-c51e-4d2e-857c-c1e2dd83f9c8'), AIMessage(content=\"That's awesome! The San Francisco 49ers have a rich history and a passionate fan base. Do you have a favorite player or a memorable game that you enjoyed watching?\", additional_kwargs={'refusal': None}, response_metadata={'token_usage': {'completion_tokens': 34, 'prompt_tokens': 203, 'total_tokens': 237, 'completion_tokens_details': {'accepted_prediction_tokens': 0, 'audio_tokens': 0, 'reasoning_tokens': 0, 'rejected_prediction_tokens': 0}, 'prompt_tokens_details': {'audio_tokens': 0, 'cached_tokens': 0}}, 'model_provider': 'openai', 'model_name': 'gpt-4o-2024-08-06', 'system_fingerprint': 'fp_a788c5aef0', 'id': 'chatcmpl-CTrf3B9fLLWkLTkE9vwiNGPViipzL', 'service_tier': 'default', 'finish_reason': 'stop', 'logprobs': None}, id='lc_run--9675c806-93d5-457f-b0aa-13c1fffefb18-0', usage_metadata={'input_tokens': 203, 'output_tokens': 34, 'total_tokens': 237, 'input_token_details': {'audio': 0, 'cache_read': 0}, 'output_token_details': {'audio': 0, 'reasoning': 0}})], 'summary': \"Lance introduced himself multiple times throughout the conversation, consistently stating his name. He expressed his fondness for the San Francisco 49ers football team, which the AI assistant acknowledged and responded to by offering to discuss various aspects of the team, such as their history, current roster, memorable games, and more. Despite the AI's attempts to engage in a deeper discussion about the 49ers, Lance continued to reintroduce himself without directly responding to the AI's questions or prompts about the team. The conversation remained brief and somewhat repetitive, with Lance's repeated introductions being a notable feature.\"}, next=(), config={'configurable': {'thread_id': '1', 'checkpoint_ns': '', 'checkpoint_id': '1f0b0261-f3f6-6f5a-801d-34abb2196eb4'}}, metadata={'source': 'loop', 'step': 29, 'parents': {}}, created_at='2025-10-23T15:37:02.798191+00:00', parent_config={'configurable': {'thread_id': '1', 'checkpoint_ns': '', 'checkpoint_id': '1f0b0261-e80e-6f3a-801c-0d7304cb4c65'}}, tasks=(), interrupts=())"
      ]
     },
     "execution_count": 17,
     "metadata": {},
     "output_type": "execute_result"
    }
   ],
   "source": [
    "config = {\"configurable\": {\"thread_id\": \"1\"}}\n",
    "graph_state = graph.get_state(config)\n",
    "graph_state"
   ]
  },
  {
   "cell_type": "markdown",
   "id": "1e21152d-ed9c-408d-b7d5-f634c9ce81e2",
   "metadata": {},
   "source": [
    "### Persisting state\n",
    "\n",
    "Using database like Sqlite means state is persisted! \n",
    "\n",
    "For example, we can re-start the notebook kernel and see that we can still load from Sqlite DB on disk.\n"
   ]
  },
  {
   "cell_type": "code",
   "execution_count": 18,
   "id": "b9a44dc5-be04-45fa-a6fc-27b0f8ee4678",
   "metadata": {},
   "outputs": [
    {
     "data": {
      "text/plain": [
       "StateSnapshot(values={'messages': [HumanMessage(content=\"hi! I'm Lance\", additional_kwargs={}, response_metadata={}, id='0dc1e883-e5c3-4b5a-b548-4b26932936bb'), AIMessage(content=\"Hello again, Lance! It's great to hear from you. If there's anything specific you'd like to discuss or any questions you have, feel free to let me know!\", additional_kwargs={'refusal': None}, response_metadata={'token_usage': {'completion_tokens': 33, 'prompt_tokens': 345, 'total_tokens': 378, 'completion_tokens_details': {'accepted_prediction_tokens': 0, 'audio_tokens': 0, 'reasoning_tokens': 0, 'rejected_prediction_tokens': 0}, 'prompt_tokens_details': {'audio_tokens': 0, 'cached_tokens': 0}}, 'model_provider': 'openai', 'model_name': 'gpt-4o-2024-08-06', 'system_fingerprint': 'fp_cbf1785567', 'id': 'chatcmpl-CTrexavX22JcWSolGnOK5G0LI4hGk', 'service_tier': 'default', 'finish_reason': 'stop', 'logprobs': None}, id='lc_run--d910bac1-15cb-4a51-81cf-9ed9c0560e60-0', usage_metadata={'input_tokens': 345, 'output_tokens': 33, 'total_tokens': 378, 'input_token_details': {'audio': 0, 'cache_read': 0}, 'output_token_details': {'audio': 0, 'reasoning': 0}}), HumanMessage(content=\"what's my name?\", additional_kwargs={}, response_metadata={}, id='5207fa9a-b91c-4a93-906a-a7f5836abb49'), AIMessage(content='Your name is Lance!', additional_kwargs={'refusal': None}, response_metadata={'token_usage': {'completion_tokens': 5, 'prompt_tokens': 183, 'total_tokens': 188, 'completion_tokens_details': {'accepted_prediction_tokens': 0, 'audio_tokens': 0, 'reasoning_tokens': 0, 'rejected_prediction_tokens': 0}, 'prompt_tokens_details': {'audio_tokens': 0, 'cached_tokens': 0}}, 'model_provider': 'openai', 'model_name': 'gpt-4o-2024-08-06', 'system_fingerprint': 'fp_a788c5aef0', 'id': 'chatcmpl-CTrf3mu2aqlyMJoKSgDHMVoBQi4aF', 'service_tier': 'default', 'finish_reason': 'stop', 'logprobs': None}, id='lc_run--87ffb0d6-0027-460e-a973-650d623867dc-0', usage_metadata={'input_tokens': 183, 'output_tokens': 5, 'total_tokens': 188, 'input_token_details': {'audio': 0, 'cache_read': 0}, 'output_token_details': {'audio': 0, 'reasoning': 0}}), HumanMessage(content='i like the 49ers!', additional_kwargs={}, response_metadata={}, id='bae4922b-c51e-4d2e-857c-c1e2dd83f9c8'), AIMessage(content=\"That's awesome! The San Francisco 49ers have a rich history and a passionate fan base. Do you have a favorite player or a memorable game that you enjoyed watching?\", additional_kwargs={'refusal': None}, response_metadata={'token_usage': {'completion_tokens': 34, 'prompt_tokens': 203, 'total_tokens': 237, 'completion_tokens_details': {'accepted_prediction_tokens': 0, 'audio_tokens': 0, 'reasoning_tokens': 0, 'rejected_prediction_tokens': 0}, 'prompt_tokens_details': {'audio_tokens': 0, 'cached_tokens': 0}}, 'model_provider': 'openai', 'model_name': 'gpt-4o-2024-08-06', 'system_fingerprint': 'fp_a788c5aef0', 'id': 'chatcmpl-CTrf3B9fLLWkLTkE9vwiNGPViipzL', 'service_tier': 'default', 'finish_reason': 'stop', 'logprobs': None}, id='lc_run--9675c806-93d5-457f-b0aa-13c1fffefb18-0', usage_metadata={'input_tokens': 203, 'output_tokens': 34, 'total_tokens': 237, 'input_token_details': {'audio': 0, 'cache_read': 0}, 'output_token_details': {'audio': 0, 'reasoning': 0}})], 'summary': \"Lance introduced himself multiple times throughout the conversation, consistently stating his name. He expressed his fondness for the San Francisco 49ers football team, which the AI assistant acknowledged and responded to by offering to discuss various aspects of the team, such as their history, current roster, memorable games, and more. Despite the AI's attempts to engage in a deeper discussion about the 49ers, Lance continued to reintroduce himself without directly responding to the AI's questions or prompts about the team. The conversation remained brief and somewhat repetitive, with Lance's repeated introductions being a notable feature.\"}, next=(), config={'configurable': {'thread_id': '1', 'checkpoint_ns': '', 'checkpoint_id': '1f0b0261-f3f6-6f5a-801d-34abb2196eb4'}}, metadata={'source': 'loop', 'step': 29, 'parents': {}}, created_at='2025-10-23T15:37:02.798191+00:00', parent_config={'configurable': {'thread_id': '1', 'checkpoint_ns': '', 'checkpoint_id': '1f0b0261-e80e-6f3a-801c-0d7304cb4c65'}}, tasks=(), interrupts=())"
      ]
     },
     "execution_count": 18,
     "metadata": {},
     "output_type": "execute_result"
    }
   ],
   "source": [
    "# Create a thread\n",
    "config = {\"configurable\": {\"thread_id\": \"1\"}}\n",
    "graph_state = graph.get_state(config)\n",
    "graph_state"
   ]
  },
  {
   "cell_type": "markdown",
   "id": "8466e418-1a46-4cdb-a51a-6ae14281bb85",
   "metadata": {},
   "source": [
    "## LangGraph Studio\n",
    "\n",
    "**⚠️ DISCLAIMER**\n",
    "\n",
    "Since the filming of these videos, we've updated Studio so that it can be run locally and opened in your browser. This is now the preferred way to run Studio (rather than using the Desktop App as shown in the video). See documentation [here](https://docs.langchain.com/langsmith/studio#local-development-server) on the local development server. To start the local development server, run the following command in your terminal in the `/studio` directory in this module:\n",
    "\n",
    "```\n",
    "langgraph dev\n",
    "```\n",
    "\n",
    "You should see the following output:\n",
    "```\n",
    "- 🚀 API: http://127.0.0.1:2024\n",
    "- 🎨 Studio UI: https://smith.langchain.com/studio/?baseUrl=http://127.0.0.1:2024\n",
    "- 📚 API Docs: http://127.0.0.1:2024/docs\n",
    "```\n",
    "\n",
    "Open your browser and navigate to the Studio UI: `https://smith.langchain.com/studio/?baseUrl=http://127.0.0.1:2024`."
   ]
  },
  {
   "cell_type": "code",
   "execution_count": null,
   "id": "17706653",
   "metadata": {},
   "outputs": [],
   "source": []
  },
  {
   "cell_type": "markdown",
   "id": "c4916d8b",
   "metadata": {},
   "source": []
  },
  {
   "cell_type": "markdown",
   "id": "07575a63",
   "metadata": {},
   "source": [
    "# Tweaks "
   ]
  },
  {
   "cell_type": "code",
   "execution_count": 19,
   "id": "e86fb25c",
   "metadata": {},
   "outputs": [
    {
     "data": {
      "text/plain": [
       "{'user1': [{'message': 'This is my first message!',\n",
       "   'timestamp': '2025-10-23T21:07:02.830599'},\n",
       "  {'message': 'Adding another message.',\n",
       "   'timestamp': '2025-10-23T21:07:02.830698'}]}"
      ]
     },
     "execution_count": 19,
     "metadata": {},
     "output_type": "execute_result"
    }
   ],
   "source": [
    "\n",
    "from datetime import datetime\n",
    "from typing import Dict, List\n",
    "\n",
    "def save_message(memory_store: Dict[str, List[Dict[str, str]]], user_id: str, message: str) -> Dict[str, List[Dict[str, str]]]:\n",
    "    \"\"\"\n",
    "    Save a user's message with timestamp and session management.\n",
    "\n",
    "    Args:\n",
    "        memory_store (dict): Stores messages per user with timestamped entries.\n",
    "        user_id (str): Unique identifier for the user.\n",
    "        message (str): Message text to store.\n",
    "\n",
    "    Returns:\n",
    "        dict: Updated memory store with structured entries.\n",
    "    \"\"\"\n",
    "    if not isinstance(memory_store, dict):\n",
    "        raise TypeError(\"memory_store must be a dictionary\")\n",
    "    if not isinstance(user_id, str):\n",
    "        raise TypeError(\"user_id must be a string\")\n",
    "    if not isinstance(message, str):\n",
    "        raise TypeError(\"message must be a string\")\n",
    "\n",
    "    entry = {\"message\": message, \"timestamp\": datetime.now().isoformat()}\n",
    "    memory_store.setdefault(user_id, []).append(entry)\n",
    "    return memory_store\n",
    "\n",
    "\n",
    "hybrid_memory = {}\n",
    "save_message(hybrid_memory, \"user1\", \"This is my first message!\")\n",
    "save_message(hybrid_memory, \"user1\", \"Adding another message.\")\n",
    "hybrid_memory"
   ]
  },
  {
   "cell_type": "code",
   "execution_count": 20,
   "id": "08e7a06a",
   "metadata": {},
   "outputs": [
    {
     "data": {
      "text/plain": [
       "[{'message': 'This is my first message!',\n",
       "  'timestamp': '2025-10-23T21:07:02.830599'},\n",
       " {'message': 'Adding another message.',\n",
       "  'timestamp': '2025-10-23T21:07:02.830698'}]"
      ]
     },
     "execution_count": 20,
     "metadata": {},
     "output_type": "execute_result"
    }
   ],
   "source": [
    "\n",
    "from datetime import timedelta\n",
    "\n",
    "def get_recent_messages(memory_store: Dict[str, List[Dict[str, str]]], user_id: str, within_minutes: int = None) -> List[Dict[str, str]]:\n",
    "    \"\"\"\n",
    "    Retrieve messages for a user, optionally filtering by recent timeframe.\n",
    "\n",
    "    Args:\n",
    "        memory_store (dict): Message memory store.\n",
    "        user_id (str): User ID.\n",
    "        within_minutes (int, optional): If given, only messages within this many minutes are returned.\n",
    "\n",
    "    Returns:\n",
    "        list: List of message dictionaries.\n",
    "    \"\"\"\n",
    "    messages = memory_store.get(user_id, [])\n",
    "    if within_minutes is not None:\n",
    "        cutoff = datetime.now() - timedelta(minutes=within_minutes)\n",
    "        messages = [m for m in messages if datetime.fromisoformat(m['timestamp']) >= cutoff]\n",
    "    return messages\n",
    "\n",
    "\n",
    "get_recent_messages(hybrid_memory, \"user1\")"
   ]
  },
  {
   "cell_type": "code",
   "execution_count": 21,
   "id": "ec266252",
   "metadata": {},
   "outputs": [
    {
     "name": "stdout",
     "output_type": "stream",
     "text": [
      "Full chat history for user2:\n",
      "[2025-10-23T21:07:02.845181] Hi bot!\n",
      "[2025-10-23T21:07:02.845208] Tell me a joke.\n",
      "[2025-10-23T21:07:02.845227] Thanks! That was funny.\n"
     ]
    }
   ],
   "source": [
    "\n",
    "save_message(hybrid_memory, \"user2\", \"Hi bot!\")\n",
    "save_message(hybrid_memory, \"user2\", \"Tell me a joke.\")\n",
    "save_message(hybrid_memory, \"user2\", \"Thanks! That was funny.\")\n",
    "\n",
    "\n",
    "print(\"Full chat history for user2:\")\n",
    "for msg in get_recent_messages(hybrid_memory, \"user2\"):\n",
    "    print(f\"[{msg['timestamp']}] {msg['message']}\")"
   ]
  }
 ],
 "metadata": {
  "kernelspec": {
   "display_name": "Python 3",
   "language": "python",
   "name": "python3"
  },
  "language_info": {
   "codemirror_mode": {
    "name": "ipython",
    "version": 3
   },
   "file_extension": ".py",
   "mimetype": "text/x-python",
   "name": "python",
   "nbconvert_exporter": "python",
   "pygments_lexer": "ipython3",
   "version": "3.12.5"
  }
 },
 "nbformat": 4,
 "nbformat_minor": 5
}
